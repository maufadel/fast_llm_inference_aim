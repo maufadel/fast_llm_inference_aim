{
 "cells": [
  {
   "cell_type": "code",
   "execution_count": 2,
   "id": "4aac2a7b",
   "metadata": {},
   "outputs": [
    {
     "name": "stderr",
     "output_type": "stream",
     "text": [
      "2025-04-22 07:21:46.744169: E external/local_xla/xla/stream_executor/cuda/cuda_fft.cc:467] Unable to register cuFFT factory: Attempting to register factory for plugin cuFFT when one has already been registered\n",
      "WARNING: All log messages before absl::InitializeLog() is called are written to STDERR\n",
      "E0000 00:00:1745306506.764804   77781 cuda_dnn.cc:8579] Unable to register cuDNN factory: Attempting to register factory for plugin cuDNN when one has already been registered\n",
      "E0000 00:00:1745306506.770898   77781 cuda_blas.cc:1407] Unable to register cuBLAS factory: Attempting to register factory for plugin cuBLAS when one has already been registered\n",
      "W0000 00:00:1745306506.790088   77781 computation_placer.cc:177] computation placer already registered. Please check linkage and avoid linking the same target more than once.\n",
      "W0000 00:00:1745306506.790119   77781 computation_placer.cc:177] computation placer already registered. Please check linkage and avoid linking the same target more than once.\n",
      "W0000 00:00:1745306506.790121   77781 computation_placer.cc:177] computation placer already registered. Please check linkage and avoid linking the same target more than once.\n",
      "W0000 00:00:1745306506.790123   77781 computation_placer.cc:177] computation placer already registered. Please check linkage and avoid linking the same target more than once.\n",
      "2025-04-22 07:21:46.795962: I tensorflow/core/platform/cpu_feature_guard.cc:210] This TensorFlow binary is optimized to use available CPU instructions in performance-critical operations.\n",
      "To enable the following instructions: AVX2 FMA, in other operations, rebuild TensorFlow with the appropriate compiler flags.\n"
     ]
    },
    {
     "name": "stdout",
     "output_type": "stream",
     "text": [
      "[2025-04-22 07:21:49,753] [INFO] [real_accelerator.py:239:get_accelerator] Setting ds_accelerator to cuda (auto detect)\n"
     ]
    },
    {
     "name": "stderr",
     "output_type": "stream",
     "text": [
      "/usr/bin/ld: cannot find -laio: No such file or directory\n",
      "collect2: error: ld returned 1 exit status\n",
      "/usr/bin/ld: cannot find -lcufile: No such file or directory\n",
      "collect2: error: ld returned 1 exit status\n"
     ]
    },
    {
     "data": {
      "application/vnd.jupyter.widget-view+json": {
       "model_id": "d1312bfce67e4cae8dff5db2cb35a8b1",
       "version_major": 2,
       "version_minor": 0
      },
      "text/plain": [
       "Loading checkpoint shards:   0%|          | 0/2 [00:00<?, ?it/s]"
      ]
     },
     "metadata": {},
     "output_type": "display_data"
    }
   ],
   "source": [
    "from transformers import AutoModelForCausalLM, AutoTokenizer, pipeline\n",
    "import torch\n",
    "\n",
    "model_path = \"/home/ubuntu/fast_llm_inference/llama-3.1-8B-Instruct-quantizised/llama-3.1-8B-4bit\"\n",
    "\n",
    "# Load model that was already quantized and saved\n",
    "model = AutoModelForCausalLM.from_pretrained(\n",
    "    model_path,\n",
    "    device_map=\"auto\"\n",
    ")\n",
    "\n",
    "tokenizer = AutoTokenizer.from_pretrained(model_path)"
   ]
  },
  {
   "cell_type": "code",
   "execution_count": 3,
   "id": "ac807ee3",
   "metadata": {},
   "outputs": [
    {
     "name": "stderr",
     "output_type": "stream",
     "text": [
      "Device set to use cuda:0\n",
      "Setting `pad_token_id` to `eos_token_id`:128001 for open-end generation.\n"
     ]
    },
    {
     "name": "stdout",
     "output_type": "stream",
     "text": [
      "Explain the theory of relativity in simple terms: Albert Einstein's groundbreaking theory of relativity, which revolutionized our understanding of space and time, can be explained in simple terms as follows:\n",
      "**Time and Space are Relative**: Einstein's theory states that time and space are not absolute, but rather relative to the observer. This means that time and space can appear different depending on how fast you're moving and where you are in the universe.\n",
      "\n",
      "**The Speed of Light is Always Constant**: Einstein discovered that the speed of light is always the same, no\n"
     ]
    }
   ],
   "source": [
    "# Simple generation test\n",
    "pipe = pipeline(\"text-generation\", model=model, tokenizer=tokenizer, device_map=\"auto\")\n",
    "print(pipe(\"Explain the theory of relativity in simple terms:\", \n",
    "max_new_tokens=100)[0]['generated_text'])"
   ]
  },
  {
   "cell_type": "code",
   "execution_count": null,
   "id": "5f810fa7",
   "metadata": {},
   "outputs": [
    {
     "name": "stderr",
     "output_type": "stream",
     "text": [
      "huggingface/tokenizers: The current process just got forked, after parallelism has already been used. Disabling parallelism to avoid deadlocks...\n",
      "To disable this warning, you can either:\n",
      "\t- Avoid using `tokenizers` before the fork if possible\n",
      "\t- Explicitly set the environment variable TOKENIZERS_PARALLELISM=(true | false)\n"
     ]
    },
    {
     "name": "stdout",
     "output_type": "stream",
     "text": [
      "[2025-04-22 07:25:44,887] [INFO] [real_accelerator.py:239:get_accelerator] Setting ds_accelerator to cuda (auto detect)\n",
      "2025-04-22 07:25:50.428381: E external/local_xla/xla/stream_executor/cuda/cuda_fft.cc:467] Unable to register cuFFT factory: Attempting to register factory for plugin cuFFT when one has already been registered\n",
      "WARNING: All log messages before absl::InitializeLog() is called are written to STDERR\n",
      "E0000 00:00:1745306750.445986   93312 cuda_dnn.cc:8579] Unable to register cuDNN factory: Attempting to register factory for plugin cuDNN when one has already been registered\n",
      "E0000 00:00:1745306750.452245   93312 cuda_blas.cc:1407] Unable to register cuBLAS factory: Attempting to register factory for plugin cuBLAS when one has already been registered\n",
      "W0000 00:00:1745306750.471526   93312 computation_placer.cc:177] computation placer already registered. Please check linkage and avoid linking the same target more than once.\n",
      "W0000 00:00:1745306750.471550   93312 computation_placer.cc:177] computation placer already registered. Please check linkage and avoid linking the same target more than once.\n",
      "W0000 00:00:1745306750.471553   93312 computation_placer.cc:177] computation placer already registered. Please check linkage and avoid linking the same target more than once.\n",
      "W0000 00:00:1745306750.471557   93312 computation_placer.cc:177] computation placer already registered. Please check linkage and avoid linking the same target more than once.\n",
      "2025-04-22 07:25:50.477097: I tensorflow/core/platform/cpu_feature_guard.cc:210] This TensorFlow binary is optimized to use available CPU instructions in performance-critical operations.\n",
      "To enable the following instructions: AVX2 FMA, in other operations, rebuild TensorFlow with the appropriate compiler flags.\n",
      "[2025-04-22 07:25:53,433] [WARNING] [runner.py:215:fetch_hostfile] Unable to find hostfile, will proceed with training with local resources only.\n",
      "[2025-04-22 07:25:53,433] [INFO] [runner.py:605:main] cmd = /home/ubuntu/fastllm_venv/bin/python3.11 -u -m deepspeed.launcher.launch --world_info=eyJsb2NhbGhvc3QiOiBbMF19 --master_addr=127.0.0.1 --master_port=29500 --enable_each_rank_log=None deepspeed_test.py\n",
      "[2025-04-22 07:25:56,503] [INFO] [real_accelerator.py:239:get_accelerator] Setting ds_accelerator to cuda (auto detect)\n",
      "2025-04-22 07:26:01.372801: E external/local_xla/xla/stream_executor/cuda/cuda_fft.cc:467] Unable to register cuFFT factory: Attempting to register factory for plugin cuFFT when one has already been registered\n",
      "WARNING: All log messages before absl::InitializeLog() is called are written to STDERR\n",
      "E0000 00:00:1745306761.389918   93467 cuda_dnn.cc:8579] Unable to register cuDNN factory: Attempting to register factory for plugin cuDNN when one has already been registered\n",
      "E0000 00:00:1745306761.394967   93467 cuda_blas.cc:1407] Unable to register cuBLAS factory: Attempting to register factory for plugin cuBLAS when one has already been registered\n",
      "W0000 00:00:1745306761.411877   93467 computation_placer.cc:177] computation placer already registered. Please check linkage and avoid linking the same target more than once.\n",
      "W0000 00:00:1745306761.411899   93467 computation_placer.cc:177] computation placer already registered. Please check linkage and avoid linking the same target more than once.\n",
      "W0000 00:00:1745306761.411903   93467 computation_placer.cc:177] computation placer already registered. Please check linkage and avoid linking the same target more than once.\n",
      "W0000 00:00:1745306761.411905   93467 computation_placer.cc:177] computation placer already registered. Please check linkage and avoid linking the same target more than once.\n",
      "2025-04-22 07:26:01.415857: I tensorflow/core/platform/cpu_feature_guard.cc:210] This TensorFlow binary is optimized to use available CPU instructions in performance-critical operations.\n",
      "To enable the following instructions: AVX2 FMA, in other operations, rebuild TensorFlow with the appropriate compiler flags.\n",
      "[2025-04-22 07:26:04,467] [INFO] [launch.py:146:main] WORLD INFO DICT: {'localhost': [0]}\n",
      "[2025-04-22 07:26:04,468] [INFO] [launch.py:152:main] nnodes=1, num_local_procs=1, node_rank=0\n",
      "[2025-04-22 07:26:04,468] [INFO] [launch.py:163:main] global_rank_mapping=defaultdict(<class 'list'>, {'localhost': [0]})\n",
      "[2025-04-22 07:26:04,468] [INFO] [launch.py:164:main] dist_world_size=1\n",
      "[2025-04-22 07:26:04,468] [INFO] [launch.py:168:main] Setting CUDA_VISIBLE_DEVICES=0\n",
      "[2025-04-22 07:26:04,469] [INFO] [launch.py:256:main] process 93635 spawned with command: ['/home/ubuntu/fastllm_venv/bin/python3.11', '-u', 'deepspeed_test.py', '--local_rank=0']\n",
      "2025-04-22 07:26:10.504707: E external/local_xla/xla/stream_executor/cuda/cuda_fft.cc:467] Unable to register cuFFT factory: Attempting to register factory for plugin cuFFT when one has already been registered\n",
      "WARNING: All log messages before absl::InitializeLog() is called are written to STDERR\n",
      "E0000 00:00:1745306770.522232   93635 cuda_dnn.cc:8579] Unable to register cuDNN factory: Attempting to register factory for plugin cuDNN when one has already been registered\n",
      "E0000 00:00:1745306770.528918   93635 cuda_blas.cc:1407] Unable to register cuBLAS factory: Attempting to register factory for plugin cuBLAS when one has already been registered\n",
      "W0000 00:00:1745306770.545072   93635 computation_placer.cc:177] computation placer already registered. Please check linkage and avoid linking the same target more than once.\n",
      "W0000 00:00:1745306770.545099   93635 computation_placer.cc:177] computation placer already registered. Please check linkage and avoid linking the same target more than once.\n",
      "W0000 00:00:1745306770.545103   93635 computation_placer.cc:177] computation placer already registered. Please check linkage and avoid linking the same target more than once.\n",
      "W0000 00:00:1745306770.545105   93635 computation_placer.cc:177] computation placer already registered. Please check linkage and avoid linking the same target more than once.\n",
      "2025-04-22 07:26:10.550181: I tensorflow/core/platform/cpu_feature_guard.cc:210] This TensorFlow binary is optimized to use available CPU instructions in performance-critical operations.\n",
      "To enable the following instructions: AVX2 FMA, in other operations, rebuild TensorFlow with the appropriate compiler flags.\n",
      "[2025-04-22 07:26:13,513] [INFO] [real_accelerator.py:239:get_accelerator] Setting ds_accelerator to cuda (auto detect)\n",
      "Loading checkpoint shards:   0%|                          | 0/2 [00:00<?, ?it/s]\n",
      "[rank0]: Traceback (most recent call last):\n",
      "[rank0]:   File \"/home/ubuntu/fast_llm_inference/deepspeed_test.py\", line 8, in <module>\n",
      "[rank0]:     model = AutoModelForCausalLM.from_pretrained(\n",
      "[rank0]:             ^^^^^^^^^^^^^^^^^^^^^^^^^^^^^^^^^^^^^\n",
      "[rank0]:   File \"/home/ubuntu/fastllm_venv/lib/python3.11/site-packages/transformers/models/auto/auto_factory.py\", line 571, in from_pretrained\n",
      "[rank0]:     return model_class.from_pretrained(\n",
      "[rank0]:            ^^^^^^^^^^^^^^^^^^^^^^^^^^^^\n",
      "[rank0]:   File \"/home/ubuntu/fastllm_venv/lib/python3.11/site-packages/transformers/modeling_utils.py\", line 279, in _wrapper\n",
      "[rank0]:     return func(*args, **kwargs)\n",
      "[rank0]:            ^^^^^^^^^^^^^^^^^^^^^\n",
      "[rank0]:   File \"/home/ubuntu/fastllm_venv/lib/python3.11/site-packages/transformers/modeling_utils.py\", line 4399, in from_pretrained\n",
      "[rank0]:     ) = cls._load_pretrained_model(\n",
      "[rank0]:         ^^^^^^^^^^^^^^^^^^^^^^^^^^^\n",
      "[rank0]:   File \"/home/ubuntu/fastllm_venv/lib/python3.11/site-packages/transformers/modeling_utils.py\", line 4833, in _load_pretrained_model\n",
      "[rank0]:     disk_offload_index, cpu_offload_index = _load_state_dict_into_meta_model(\n",
      "[rank0]:                                             ^^^^^^^^^^^^^^^^^^^^^^^^^^^^^^^^^\n",
      "[rank0]:   File \"/home/ubuntu/fastllm_venv/lib/python3.11/site-packages/torch/utils/_contextlib.py\", line 116, in decorate_context\n",
      "[rank0]:     return func(*args, **kwargs)\n",
      "[rank0]:            ^^^^^^^^^^^^^^^^^^^^^\n",
      "[rank0]:   File \"/home/ubuntu/fastllm_venv/lib/python3.11/site-packages/transformers/modeling_utils.py\", line 776, in _load_state_dict_into_meta_model\n",
      "[rank0]:     shard_and_distribute_module(\n",
      "[rank0]:   File \"/home/ubuntu/fastllm_venv/lib/python3.11/site-packages/transformers/integrations/tensor_parallel.py\", line 652, in shard_and_distribute_module\n",
      "[rank0]:     param = tp_layer.partition_tensor(\n",
      "[rank0]:             ^^^^^^^^^^^^^^^^^^^^^^^^^^\n",
      "[rank0]:   File \"/home/ubuntu/fastllm_venv/lib/python3.11/site-packages/transformers/integrations/tensor_parallel.py\", line 384, in partition_tensor\n",
      "[rank0]:     return nn.Parameter(parameter)\n",
      "[rank0]:            ^^^^^^^^^^^^^^^^^^^^^^^\n",
      "[rank0]:   File \"/home/ubuntu/fastllm_venv/lib/python3.11/site-packages/torch/nn/parameter.py\", line 49, in __new__\n",
      "[rank0]:     t = data.detach().requires_grad_(requires_grad)\n",
      "[rank0]:         ^^^^^^^^^^^^^^^^^^^^^^^^^^^^^^^^^^^^^^^^^^^\n",
      "[rank0]: RuntimeError: only Tensors of floating point dtype can require gradients\n",
      "[rank0]:[W422 07:26:17.491805398 ProcessGroupNCCL.cpp:1496] Warning: WARNING: destroy_process_group() was not called before program exit, which can leak resources. For more info, please see https://pytorch.org/docs/stable/distributed.html#shutdown (function operator())\n",
      "[2025-04-22 07:26:19,473] [INFO] [launch.py:319:sigkill_handler] Killing subprocess 93635\n",
      "[2025-04-22 07:26:19,477] [ERROR] [launch.py:325:sigkill_handler] ['/home/ubuntu/fastllm_venv/bin/python3.11', '-u', 'deepspeed_test.py', '--local_rank=0'] exits with return code = 1\n"
     ]
    },
    {
     "ename": "",
     "evalue": "",
     "output_type": "error",
     "traceback": [
      "\u001b[1;31mThe Kernel crashed while executing code in the current cell or a previous cell. \n",
      "\u001b[1;31mPlease review the code in the cell(s) to identify a possible cause of the failure. \n",
      "\u001b[1;31mClick <a href='https://aka.ms/vscodeJupyterKernelCrash'>here</a> for more info. \n",
      "\u001b[1;31mView Jupyter <a href='command:jupyter.viewOutput'>log</a> for further details."
     ]
    }
   ],
   "source": [
    "!deepspeed deepspeed_test.py"
   ]
  }
 ],
 "metadata": {
  "kernelspec": {
   "display_name": "fastllm_venv",
   "language": "python",
   "name": "python3"
  },
  "language_info": {
   "codemirror_mode": {
    "name": "ipython",
    "version": 3
   },
   "file_extension": ".py",
   "mimetype": "text/x-python",
   "name": "python",
   "nbconvert_exporter": "python",
   "pygments_lexer": "ipython3",
   "version": "3.11.12"
  }
 },
 "nbformat": 4,
 "nbformat_minor": 5
}
