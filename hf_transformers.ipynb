{
 "cells": [
  {
   "cell_type": "code",
   "execution_count": null,
   "id": "d912d15f",
   "metadata": {},
   "outputs": [],
   "source": [
    "from benchmark.benchmark import ModelBenchmark\n",
    "\n",
    "model_name = \"Teuken-7B-instruct-research-v0.4\"\n",
    "backend = \"vllm\"\n",
    "task = \"summarization\"\n",
    "\n",
    "bm = ModelBenchmark(\n",
    "    backend=backend,\n",
    "    model_name=model_name,\n",
    "    model_path=f\"/home/ubuntu/fast_llm_inference/{model_name}\",\n",
    "    task=task\n",
    ")\n",
    "\n",
    "# Run the benchmark\n",
    "\n",
    "results = bm.run(samples=100)"
   ]
  }
 ],
 "metadata": {
  "kernelspec": {
   "display_name": "fastllm_venv",
   "language": "python",
   "name": "python3"
  },
  "language_info": {
   "codemirror_mode": {
    "name": "ipython",
    "version": 3
   },
   "file_extension": ".py",
   "mimetype": "text/x-python",
   "name": "python",
   "nbconvert_exporter": "python",
   "pygments_lexer": "ipython3",
   "version": "3.11.12"
  }
 },
 "nbformat": 4,
 "nbformat_minor": 5
}
