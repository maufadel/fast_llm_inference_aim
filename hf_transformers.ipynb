{
 "cells": [
  {
   "cell_type": "markdown",
   "id": "d8f0a517",
   "metadata": {},
   "source": [
    "### Creating evaluating pipeline."
   ]
  },
  {
   "cell_type": "code",
   "execution_count": null,
   "id": "9195802e",
   "metadata": {},
   "outputs": [],
   "source": [
    "model_names = [\"llama-3.1-8B-Instruct\", \"llama-3.1-8B-Instruct-4bit\", \"llama-3.1-8B-Instruct-8bit\"]\n",
    "backends = [\"vllm\", \"huggingface\", \"llama-cpp\"]\n",
    "task = [\"qa\", \"sql\", \"summarization\"]\n",
    "use_cases = [\"batch\", \"server\"]"
   ]
  },
  {
   "cell_type": "code",
   "execution_count": null,
   "id": "d912d15f",
   "metadata": {},
   "outputs": [
    {
     "name": "stdout",
     "output_type": "stream",
     "text": [
      "Running benchmark for llama-3.1-8B-Instruct-4bit with huggingface on qa\n",
      "[2025-04-24 14:10:37,792] [INFO] [real_accelerator.py:239:get_accelerator] Setting ds_accelerator to cuda (auto detect)\n"
     ]
    },
    {
     "data": {
      "application/vnd.jupyter.widget-view+json": {
       "model_id": "289565eda781492692fe4585eaa285bf",
       "version_major": 2,
       "version_minor": 0
      },
      "text/plain": [
       "Loading checkpoint shards:   0%|          | 0/2 [00:00<?, ?it/s]"
      ]
     },
     "metadata": {},
     "output_type": "display_data"
    }
   ],
   "source": [
    "import multiprocessing\n",
    "from benchmark.benchmark import ModelBenchmark\n",
    "\n",
    "def run_benchmark(backend, model_name, task):\n",
    "    print(f\"Running benchmark for {model_name} with {backend} on {task}\")\n",
    "    bm = ModelBenchmark(\n",
    "        backend=backend,\n",
    "        model_name=model_name,\n",
    "        model_path=f\"/home/ubuntu/fast_llm_inference/models/{model_name}\",\n",
    "        task=task,\n",
    "        verbose=True,\n",
    "    )\n",
    "    bm.run(samples=5)\n",
    "    del bm  # make sure to dereference\n",
    "    import torch\n",
    "    torch.cuda.empty_cache()\n",
    "\n",
    "model_names = [\"llama-3.1-8B-Instruct-4bit\", \"llama-3.1-8B-Instruct-8bit\", \"llama-3.1-8B-Instruct\"]\n",
    "backends = [\"huggingface\"]\n",
    "tasks = [\"qa\", \"sql\", \"summarization\"]\n",
    "\n",
    "for backend in backends:\n",
    "    for model_name in model_names:\n",
    "        for task in tasks:\n",
    "            p = multiprocessing.Process(target=run_benchmark, args=(backend, model_name, task))\n",
    "            p.start()\n",
    "            p.join()  # wait until finished before next\n"
   ]
  },
  {
   "cell_type": "code",
   "execution_count": 1,
   "id": "7593d3a5",
   "metadata": {},
   "outputs": [
    {
     "name": "stdout",
     "output_type": "stream",
     "text": [
      "INFO 04-24 13:10:22 [__init__.py:239] Automatically detected platform cuda.\n"
     ]
    },
    {
     "name": "stderr",
     "output_type": "stream",
     "text": [
      "2025-04-24 13:10:23.267011: E external/local_xla/xla/stream_executor/cuda/cuda_fft.cc:467] Unable to register cuFFT factory: Attempting to register factory for plugin cuFFT when one has already been registered\n",
      "WARNING: All log messages before absl::InitializeLog() is called are written to STDERR\n",
      "E0000 00:00:1745500223.288366  357493 cuda_dnn.cc:8579] Unable to register cuDNN factory: Attempting to register factory for plugin cuDNN when one has already been registered\n",
      "E0000 00:00:1745500223.294489  357493 cuda_blas.cc:1407] Unable to register cuBLAS factory: Attempting to register factory for plugin cuBLAS when one has already been registered\n",
      "W0000 00:00:1745500223.313167  357493 computation_placer.cc:177] computation placer already registered. Please check linkage and avoid linking the same target more than once.\n",
      "W0000 00:00:1745500223.313181  357493 computation_placer.cc:177] computation placer already registered. Please check linkage and avoid linking the same target more than once.\n",
      "W0000 00:00:1745500223.313183  357493 computation_placer.cc:177] computation placer already registered. Please check linkage and avoid linking the same target more than once.\n",
      "W0000 00:00:1745500223.313186  357493 computation_placer.cc:177] computation placer already registered. Please check linkage and avoid linking the same target more than once.\n",
      "2025-04-24 13:10:23.318145: I tensorflow/core/platform/cpu_feature_guard.cc:210] This TensorFlow binary is optimized to use available CPU instructions in performance-critical operations.\n",
      "To enable the following instructions: AVX2 FMA, in other operations, rebuild TensorFlow with the appropriate compiler flags.\n"
     ]
    },
    {
     "name": "stdout",
     "output_type": "stream",
     "text": [
      "INFO 04-24 13:10:41 [config.py:689] This model supports multiple tasks: {'score', 'embed', 'generate', 'classify', 'reward'}. Defaulting to 'generate'.\n",
      "WARNING 04-24 13:10:43 [config.py:768] bitsandbytes quantization is not fully optimized yet. The speed can be slower than non-quantized models.\n",
      "INFO 04-24 13:10:43 [config.py:1901] Chunked prefill is enabled with max_num_batched_tokens=8192.\n",
      "INFO 04-24 13:10:44 [core.py:61] Initializing a V1 LLM engine (v0.8.4) with config: model='/home/ubuntu/fast_llm_inference/models/llama-3.1-8B-Instruct-4bit', speculative_config=None, tokenizer='/home/ubuntu/fast_llm_inference/models/llama-3.1-8B-Instruct-4bit', skip_tokenizer_init=False, tokenizer_mode=auto, revision=None, override_neuron_config=None, tokenizer_revision=None, trust_remote_code=True, dtype=torch.float16, max_seq_len=8192, download_dir=None, load_format=LoadFormat.BITSANDBYTES, tensor_parallel_size=1, pipeline_parallel_size=1, disable_custom_all_reduce=False, quantization=bitsandbytes, enforce_eager=False, kv_cache_dtype=auto,  device_config=cuda, decoding_config=DecodingConfig(guided_decoding_backend='auto', reasoning_backend=None), observability_config=ObservabilityConfig(show_hidden_metrics=False, otlp_traces_endpoint=None, collect_model_forward_time=False, collect_model_execute_time=False), seed=None, served_model_name=/home/ubuntu/fast_llm_inference/models/llama-3.1-8B-Instruct-4bit, num_scheduler_steps=1, multi_step_stream_outputs=True, enable_prefix_caching=True, chunked_prefill_enabled=True, use_async_output_proc=True, disable_mm_preprocessor_cache=False, mm_processor_kwargs=None, pooler_config=None, compilation_config={\"level\":3,\"custom_ops\":[\"none\"],\"splitting_ops\":[\"vllm.unified_attention\",\"vllm.unified_attention_with_output\"],\"use_inductor\":true,\"compile_sizes\":[],\"use_cudagraph\":true,\"cudagraph_num_of_warmups\":1,\"cudagraph_capture_sizes\":[512,504,496,488,480,472,464,456,448,440,432,424,416,408,400,392,384,376,368,360,352,344,336,328,320,312,304,296,288,280,272,264,256,248,240,232,224,216,208,200,192,184,176,168,160,152,144,136,128,120,112,104,96,88,80,72,64,56,48,40,32,24,16,8,4,2,1],\"max_capture_size\":512}\n",
      "WARNING 04-24 13:10:44 [utils.py:2444] Methods determine_num_available_blocks,device_config,get_cache_block_size_bytes,initialize_cache not implemented in <vllm.v1.worker.gpu_worker.Worker object at 0x7ed4499fda90>\n",
      "INFO 04-24 13:10:45 [parallel_state.py:959] rank 0 in world size 1 is assigned as DP rank 0, PP rank 0, TP rank 0\n",
      "INFO 04-24 13:10:45 [cuda.py:221] Using Flash Attention backend on V1 engine.\n",
      "INFO 04-24 13:10:46 [gpu_model_runner.py:1276] Starting to load model /home/ubuntu/fast_llm_inference/models/llama-3.1-8B-Instruct-4bit...\n",
      "WARNING 04-24 13:10:46 [topk_topp_sampler.py:69] FlashInfer is not available. Falling back to the PyTorch-native implementation of top-p & top-k sampling. For the best performance, please install FlashInfer.\n",
      "INFO 04-24 13:10:46 [loader.py:1166] Loading weights with BitsAndBytes quantization. May take a while ...\n"
     ]
    },
    {
     "data": {
      "application/vnd.jupyter.widget-view+json": {
       "model_id": "d10692ad603d4956b0c3ec6ad1b49b89",
       "version_major": 2,
       "version_minor": 0
      },
      "text/plain": [
       "Loading safetensors checkpoint shards:   0% Completed | 0/2 [00:00<?, ?it/s]\n"
      ]
     },
     "metadata": {},
     "output_type": "display_data"
    },
    {
     "data": {
      "application/vnd.jupyter.widget-view+json": {
       "model_id": "4edc59e1130d4d1ab859ea867994cd51",
       "version_major": 2,
       "version_minor": 0
      },
      "text/plain": [
       "Loading safetensors checkpoint shards:   0% Completed | 0/2 [00:00<?, ?it/s]\n"
      ]
     },
     "metadata": {},
     "output_type": "display_data"
    },
    {
     "name": "stdout",
     "output_type": "stream",
     "text": [
      "INFO 04-24 13:10:50 [gpu_model_runner.py:1291] Model loading took 5.3131 GiB and 3.855315 seconds\n",
      "INFO 04-24 13:11:02 [backends.py:416] Using cache directory: /home/ubuntu/.cache/vllm/torch_compile_cache/a949d4d6c8/rank_0_0 for vLLM's torch.compile\n",
      "INFO 04-24 13:11:02 [backends.py:426] Dynamo bytecode transform time: 11.54 s\n",
      "INFO 04-24 13:11:04 [backends.py:115] Directly load the compiled graph for shape None from the cache\n",
      "INFO 04-24 13:11:15 [monitor.py:33] torch.compile takes 11.54 s in total\n",
      "INFO 04-24 13:11:17 [kv_cache_utils.py:634] GPU KV cache size: 106,880 tokens\n",
      "INFO 04-24 13:11:17 [kv_cache_utils.py:637] Maximum concurrency for 8,192 tokens per request: 13.05x\n",
      "INFO 04-24 13:12:32 [gpu_model_runner.py:1626] Graph capturing finished in 75 secs, took 1.54 GiB\n",
      "INFO 04-24 13:12:32 [core.py:163] init engine (profile, create kv cache, warmup model) took 102.12 seconds\n",
      "INFO 04-24 13:12:32 [core_client.py:435] Core engine process 0 ready.\n"
     ]
    }
   ],
   "source": [
    "from benchmark.backends.backend_factory import get_backend\n",
    "\n",
    "be = get_backend(\n",
    "    name=\"vllm\",\n",
    "    model_path=\"/home/ubuntu/fast_llm_inference/models/llama-3.1-8B-Instruct-4bit\",\n",
    "    max_tokens=10\n",
    ")\n",
    "\n",
    "be.load_model()"
   ]
  },
  {
   "cell_type": "code",
   "execution_count": 9,
   "id": "3a0eaaf7",
   "metadata": {},
   "outputs": [
    {
     "data": {
      "application/vnd.jupyter.widget-view+json": {
       "model_id": "52237cffd9cf400ab4dfc617a8142d80",
       "version_major": 2,
       "version_minor": 0
      },
      "text/plain": [
       "Processed prompts:   0%|          | 0/1 [00:00<?, ?it/s, est. speed input: 0.00 toks/s, output: 0.00 toks/s]"
      ]
     },
     "metadata": {},
     "output_type": "display_data"
    },
    {
     "data": {
      "text/plain": [
       "' authority in the Catholic Church?'"
      ]
     },
     "execution_count": 9,
     "metadata": {},
     "output_type": "execute_result"
    }
   ],
   "source": [
    "be.generate(prompt=\"Is the pope the highest \")"
   ]
  }
 ],
 "metadata": {
  "kernelspec": {
   "display_name": "fastllm_venv",
   "language": "python",
   "name": "python3"
  },
  "language_info": {
   "codemirror_mode": {
    "name": "ipython",
    "version": 3
   },
   "file_extension": ".py",
   "mimetype": "text/x-python",
   "name": "python",
   "nbconvert_exporter": "python",
   "pygments_lexer": "ipython3",
   "version": "3.11.12"
  }
 },
 "nbformat": 4,
 "nbformat_minor": 5
}
