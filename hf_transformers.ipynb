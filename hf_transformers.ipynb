{
 "cells": [
  {
   "cell_type": "code",
   "execution_count": null,
   "id": "d912d15f",
   "metadata": {},
   "outputs": [],
   "source": [
    "from benchmark.benchmark import ModelBenchmark\n",
    "\n",
    "model_name = \"Teuken-7B-instruct-research-v0.4\"\n",
    "\n",
    "bm = ModelBenchmark(\n",
    "    backend=\"vllm\",\n",
    "    model_path=f\"/home/ubuntu/fast_llm_inference/{model_name}\",\n",
    "    task=\"summarization\"\n",
    ")\n",
    "\n",
    "# Run the benchmark\n",
    "\n",
    "results = bm.run(samples=100)"
   ]
  },
  {
   "cell_type": "code",
   "execution_count": 2,
   "id": "c111a3d4",
   "metadata": {},
   "outputs": [
    {
     "name": "stdout",
     "output_type": "stream",
     "text": [
      "Statistics (mean ± std) for llama-3.1-8B-Instruct:\n",
      "prompt_length                       4143.850000 ± 2039.573492\n",
      "TTFT                                      0.069163 ± 0.001972\n",
      "ATL                                       0.104923 ± 0.031886\n",
      "GL                                        1.144052 ± 0.138419\n",
      "TPS                                      11.054800 ± 2.240038\n",
      "SPS                                       1.015800 ± 0.445172\n",
      "Memory Usage (MB)                     21341.880000 ± 0.000000\n",
      "Model Size (MB)                       15327.360256 ± 0.000000\n",
      "Overhead (MB)                          6014.519744 ± 0.000000\n",
      "GPU_Utilization (%)                      95.810000 ± 7.636561\n",
      "Total Energy (Wh)                         0.021285 ± 0.004518\n",
      "Energy per Token (J/token)                6.274305 ± 1.621546\n",
      "Energy per Sentence (J/sentence)        72.789601 ± 20.600268\n",
      "Energy per Second (W)                    66.472600 ± 9.277863\n",
      "ROUGE-1                                   0.250233 ± 0.133198\n",
      "ROUGE-L                                   0.204199 ± 0.118236\n",
      "dtype: object\n"
     ]
    }
   ],
   "source": [
    "import pandas as pd\n",
    "\n",
    "# Convert results to DataFrame\n",
    "results = pd.DataFrame(results)\n",
    "\n",
    "# Save to CSV\n",
    "results.to_csv(f\"vLLM_results/{model_name}_summarization.csv\", index=False)\n",
    "\n",
    "# Compute statistics\n",
    "numeric_results = results.select_dtypes(include='number')\n",
    "averages = numeric_results.mean()\n",
    "stds = numeric_results.std()\n",
    "\n",
    "# Combine mean ± std into a formatted string\n",
    "summary = averages.combine(stds, lambda mean, std: f\"{mean:.6f} ± {std:.6f}\")\n",
    "\n",
    "# Print formatted summary\n",
    "print(f\"Statistics (mean ± std) for {model_name}:\")\n",
    "print(summary)"
   ]
  }
 ],
 "metadata": {
  "kernelspec": {
   "display_name": "fastllm_venv",
   "language": "python",
   "name": "python3"
  },
  "language_info": {
   "codemirror_mode": {
    "name": "ipython",
    "version": 3
   },
   "file_extension": ".py",
   "mimetype": "text/x-python",
   "name": "python",
   "nbconvert_exporter": "python",
   "pygments_lexer": "ipython3",
   "version": "3.11.12"
  }
 },
 "nbformat": 4,
 "nbformat_minor": 5
}
