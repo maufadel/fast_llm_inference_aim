{
 "cells": [
  {
   "cell_type": "code",
   "execution_count": 2,
   "metadata": {},
   "outputs": [],
   "source": [
    "import os\n",
    "from huggingface_hub import login\n",
    "from transformers import AutoModelForCausalLM, AutoTokenizer\n",
    "import torch\n",
    "import warnings\n",
    "\n",
    "warnings.filterwarnings(\"ignore\")"
   ]
  },
  {
   "cell_type": "code",
   "execution_count": null,
   "metadata": {},
   "outputs": [],
   "source": [
    "HUGGING_FACE_HUB_TOKEN = os.environ.get(\"HF_TOKEN\")\n",
    "login(token=HUGGING_FACE_HUB_TOKEN)\n",
    "\n",
    "model_name = \"meta-llama/Llama-3.1-8b\"\n",
    "\n",
    "# Load tokenizer and model\n",
    "tokenizer = AutoTokenizer.from_pretrained(model_name, use_auth_token=True)\n",
    "model = AutoModelForCausalLM.from_pretrained(\n",
    "    model_name,\n",
    "    torch_dtype=torch.float16,\n",
    "    device_map=\"auto\",\n",
    "    use_auth_token=True\n",
    ")"
   ]
  },
  {
   "cell_type": "code",
   "execution_count": null,
   "metadata": {},
   "outputs": [
    {
     "name": "stdout",
     "output_type": "stream",
     "text": [
      "GPU: NVIDIA L4\n",
      "Model loaded on device: cuda:0\n",
      "Model dtype: torch.float16\n"
     ]
    }
   ],
   "source": [
    "print(f\"GPU: {torch.cuda.get_device_name()}\")\n",
    "print(f\"Model loaded on device: {model.device}\")\n",
    "print(f\"Model dtype: {model.dtype}\")"
   ]
  },
  {
   "cell_type": "code",
   "execution_count": 15,
   "metadata": {},
   "outputs": [
    {
     "name": "stdout",
     "output_type": "stream",
     "text": [
      "Tell me about the key features of LLaMA 3.1 8B.1, and how it differs from its predecessors.\n",
      "LLaMA 3.1 8B.1 is a large language model that has been trained on a dataset of 8 billion tokens, making it one of the largest language models available. It is a successor to LLaMA 3.1 7B, which was trained on 7 billion tokens.\n",
      "The key features of LLaMA 3.1 8B.1 include:\n",
      "  1. Larger training dataset: LLaMA 3.1 8B.1 was trained on a larger dataset of 8 billion tokens, compared to its predecessor which was trained on 7 billion tokens. This means that it has a more comprehensive understanding of language and can generate more accurate and coherent responses.\n",
      "  2. Improved performance: LLaMA 3.1 8B.1 has been shown to perform better than its predecessor in a variety of tasks, including language translation, question answering, and text summarization.\n",
      "  3. Faster training: LLaMA 3.1 8B.1 was trained using a new training algorithm that allows it to train faster than its predecessor. This means that it can be deployed more quickly and\n"
     ]
    }
   ],
   "source": [
    "# Run inference\n",
    "prompt = \"Tell me about the key features of LLaMA 3.1 8B.\"\n",
    "inputs = tokenizer(prompt, return_tensors=\"pt\").to(model.device)\n",
    "\n",
    "outputs = model.generate(\n",
    "    **inputs,\n",
    "    max_new_tokens=250,  # Only counts generated tokens (not input)\n",
    "    pad_token_id=tokenizer.eos_token_id,\n",
    "    early_stopping=True\n",
    ")\n",
    "\n",
    "print(tokenizer.decode(outputs[0], skip_special_tokens=True))"
   ]
  }
 ],
 "metadata": {
  "kernelspec": {
   "display_name": "llama3_env",
   "language": "python",
   "name": "python3"
  },
  "language_info": {
   "codemirror_mode": {
    "name": "ipython",
    "version": 3
   },
   "file_extension": ".py",
   "mimetype": "text/x-python",
   "name": "python",
   "nbconvert_exporter": "python",
   "pygments_lexer": "ipython3",
   "version": "3.12.3"
  }
 },
 "nbformat": 4,
 "nbformat_minor": 2
}
