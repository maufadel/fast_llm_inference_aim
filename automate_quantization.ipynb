{
 "cells": [
  {
   "cell_type": "code",
   "execution_count": null,
   "id": "52e256ed",
   "metadata": {},
   "outputs": [],
   "source": [
    "from transformers import AutoModelForCausalLM, BitsAndBytesConfig\n",
    "\n",
    "def quantize_hf(model_name, out_dir, bit=8):\n",
    "    bnb_config = BitsAndBytesConfig(\n",
    "        load_in_{bit}bit=True,  # load_in_8bit or load_in_4bit\n",
    "        llm_int8_threshold=6.0  # only for 8‑bit\n",
    "    )\n",
    "    model = AutoModelForCausalLM.from_pretrained(\n",
    "        model_name,\n",
    "        quantization_config=bnb_config,\n",
    "    )\n",
    "    model.save_pretrained(out_dir)"
   ]
  },
  {
   "cell_type": "code",
   "execution_count": null,
   "id": "808373cd",
   "metadata": {},
   "outputs": [],
   "source": [
    "from vllm import LLM, QuantizationConfig\n",
    "\n",
    "def quantize_vllm(model_name, out_dir, bit=4):\n",
    "    qconfig = QuantizationConfig(bits=bit, backend=\"bitsandbytes\")\n",
    "    llm = LLM.from_pretrained(model_name, quantization_config=qconfig)\n",
    "    llm.save_pretrained(out_dir)"
   ]
  },
  {
   "cell_type": "code",
   "execution_count": null,
   "id": "dc4fc700",
   "metadata": {},
   "outputs": [],
   "source": [
    "# assuming llama.cpp built and in PATH\n",
    "# bit ∈ {4, 8}\n",
    "!./quantize models/orig.gguf models/quantized_{bit}bit.gguf {bit}"
   ]
  },
  {
   "cell_type": "code",
   "execution_count": null,
   "id": "352ba131",
   "metadata": {},
   "outputs": [],
   "source": [
    "import torch\n",
    "from deepspeed import init_inference\n",
    "\n",
    "def quantize_ds(model_name, out_dir, bit=8):\n",
    "    dtype = torch.int8 if bit==8 else torch.int4\n",
    "    ds_model = init_inference(\n",
    "        model_name,\n",
    "        mp_size=1,\n",
    "        dtype=dtype,\n",
    "        replace_method=\"auto\",\n",
    "    )\n",
    "    ds_model.save_pretrained(out_dir)\n"
   ]
  },
  {
   "cell_type": "code",
   "execution_count": null,
   "id": "957d2d84",
   "metadata": {},
   "outputs": [],
   "source": [
    "for backend in [\"hf\", \"vllm\", \"llamacpp\", \"ds\"]:\n",
    "    for bit in [16, 8, 4]:\n",
    "        out = f\"quantized/{backend}_{bit}bit\"\n",
    "        if backend == \"hf\":\n",
    "            quantize_hf(\"facebook/llama-7b\", out, bit=bit)\n",
    "        elif backend == \"vllm\":\n",
    "            quantize_vllm(\"facebook/llama-7b\", out, bit=bit)\n",
    "        elif backend == \"llamacpp\":\n",
    "            subprocess.run([\"quantize\", \"models/llama-7b.gguf\", f\"{out}.gguf\", str(bit)])\n",
    "        elif backend == \"ds\":\n",
    "            quantize_ds(\"facebook/llama-7b\", out, bit=bit)"
   ]
  },
  {
   "cell_type": "code",
   "execution_count": 3,
   "id": "eca7e8c6",
   "metadata": {},
   "outputs": [],
   "source": [
    "from transformers import AutoModelForCausalLM, AutoTokenizer, BitsAndBytesConfig\n",
    "import os\n",
    "\n",
    "def quantize_model(model_path: str, save_path: str, quant_bits: int = 4, compute_dtype: str = \"bfloat16\"):\n",
    "    assert quant_bits in [4, 8], \"Only 4-bit and 8-bit quantization supported.\"\n",
    "\n",
    "    if quant_bits == 4:\n",
    "        bnb_config = BitsAndBytesConfig(\n",
    "            load_in_4bit=True,\n",
    "            bnb_4bit_quant_type=\"nf4\",\n",
    "            bnb_4bit_use_double_quant=True,\n",
    "            bnb_4bit_compute_dtype=compute_dtype\n",
    "        )\n",
    "    else:  # quant_bits == 8\n",
    "        bnb_config = BitsAndBytesConfig(\n",
    "            load_in_8bit=True\n",
    "        )\n",
    "\n",
    "    model = AutoModelForCausalLM.from_pretrained(\n",
    "        model_path,\n",
    "        quantization_config=bnb_config,\n",
    "        device_map=\"auto\",\n",
    "        trust_remote_code=True\n",
    "    )\n",
    "\n",
    "    tokenizer = AutoTokenizer.from_pretrained(model_path)\n",
    "\n",
    "    os.makedirs(save_path, exist_ok=True)\n",
    "    model.save_pretrained(save_path)\n",
    "    tokenizer.save_pretrained(save_path)\n",
    "\n",
    "    print(f\"✅ Model quantized to {quant_bits}-bit and saved at {save_path}\")"
   ]
  },
  {
   "cell_type": "code",
   "execution_count": 4,
   "id": "337e56de",
   "metadata": {},
   "outputs": [
    {
     "name": "stderr",
     "output_type": "stream",
     "text": [
      "2025-04-22 07:04:59.209113: E external/local_xla/xla/stream_executor/cuda/cuda_fft.cc:467] Unable to register cuFFT factory: Attempting to register factory for plugin cuFFT when one has already been registered\n",
      "WARNING: All log messages before absl::InitializeLog() is called are written to STDERR\n",
      "E0000 00:00:1745305499.228433   85462 cuda_dnn.cc:8579] Unable to register cuDNN factory: Attempting to register factory for plugin cuDNN when one has already been registered\n",
      "E0000 00:00:1745305499.234600   85462 cuda_blas.cc:1407] Unable to register cuBLAS factory: Attempting to register factory for plugin cuBLAS when one has already been registered\n",
      "W0000 00:00:1745305499.251302   85462 computation_placer.cc:177] computation placer already registered. Please check linkage and avoid linking the same target more than once.\n",
      "W0000 00:00:1745305499.251315   85462 computation_placer.cc:177] computation placer already registered. Please check linkage and avoid linking the same target more than once.\n",
      "W0000 00:00:1745305499.251317   85462 computation_placer.cc:177] computation placer already registered. Please check linkage and avoid linking the same target more than once.\n",
      "W0000 00:00:1745305499.251319   85462 computation_placer.cc:177] computation placer already registered. Please check linkage and avoid linking the same target more than once.\n",
      "2025-04-22 07:04:59.256637: I tensorflow/core/platform/cpu_feature_guard.cc:210] This TensorFlow binary is optimized to use available CPU instructions in performance-critical operations.\n",
      "To enable the following instructions: AVX2 FMA, in other operations, rebuild TensorFlow with the appropriate compiler flags.\n"
     ]
    },
    {
     "name": "stdout",
     "output_type": "stream",
     "text": [
      "[2025-04-22 07:05:01,889] [INFO] [real_accelerator.py:239:get_accelerator] Setting ds_accelerator to cuda (auto detect)\n"
     ]
    },
    {
     "name": "stderr",
     "output_type": "stream",
     "text": [
      "/usr/bin/ld: cannot find -laio: No such file or directory\n",
      "collect2: error: ld returned 1 exit status\n",
      "/usr/bin/ld: cannot find -lcufile: No such file or directory\n",
      "collect2: error: ld returned 1 exit status\n"
     ]
    },
    {
     "data": {
      "application/vnd.jupyter.widget-view+json": {
       "model_id": "460f139b6faf45d8a2a8584c6d2aa6fc",
       "version_major": 2,
       "version_minor": 0
      },
      "text/plain": [
       "Loading checkpoint shards:   0%|          | 0/4 [00:00<?, ?it/s]"
      ]
     },
     "metadata": {},
     "output_type": "display_data"
    },
    {
     "name": "stdout",
     "output_type": "stream",
     "text": [
      "✅ Model quantized to 8-bit and saved at /home/ubuntu/fast_llm_inference/llama-3.1-8B-Instruct-quantizised/llama-3.1-8B-8bit\n"
     ]
    }
   ],
   "source": [
    "quantize_model(\n",
    "    model_path=\"/home/ubuntu/fast_llm_inference/llama-3.1-8B-Instruct\",\n",
    "    save_path=\"/home/ubuntu/fast_llm_inference/llama-3.1-8B-Instruct-quantizised/llama-3.1-8B-8bit\",\n",
    "    quant_bits=8\n",
    ")"
   ]
  },
  {
   "cell_type": "code",
   "execution_count": null,
   "id": "bf8f2450",
   "metadata": {},
   "outputs": [
    {
     "name": "stderr",
     "output_type": "stream",
     "text": [
      "2025-04-22 07:41:21.321744: E external/local_xla/xla/stream_executor/cuda/cuda_fft.cc:467] Unable to register cuFFT factory: Attempting to register factory for plugin cuFFT when one has already been registered\n",
      "WARNING: All log messages before absl::InitializeLog() is called are written to STDERR\n",
      "E0000 00:00:1745307681.341024   97828 cuda_dnn.cc:8579] Unable to register cuDNN factory: Attempting to register factory for plugin cuDNN when one has already been registered\n",
      "E0000 00:00:1745307681.346185   97828 cuda_blas.cc:1407] Unable to register cuBLAS factory: Attempting to register factory for plugin cuBLAS when one has already been registered\n",
      "W0000 00:00:1745307681.362320   97828 computation_placer.cc:177] computation placer already registered. Please check linkage and avoid linking the same target more than once.\n",
      "W0000 00:00:1745307681.362340   97828 computation_placer.cc:177] computation placer already registered. Please check linkage and avoid linking the same target more than once.\n",
      "W0000 00:00:1745307681.362341   97828 computation_placer.cc:177] computation placer already registered. Please check linkage and avoid linking the same target more than once.\n",
      "W0000 00:00:1745307681.362343   97828 computation_placer.cc:177] computation placer already registered. Please check linkage and avoid linking the same target more than once.\n",
      "2025-04-22 07:41:21.368255: I tensorflow/core/platform/cpu_feature_guard.cc:210] This TensorFlow binary is optimized to use available CPU instructions in performance-critical operations.\n",
      "To enable the following instructions: AVX2 FMA, in other operations, rebuild TensorFlow with the appropriate compiler flags.\n"
     ]
    },
    {
     "name": "stdout",
     "output_type": "stream",
     "text": [
      "[2025-04-22 07:41:24,305] [INFO] [real_accelerator.py:239:get_accelerator] Setting ds_accelerator to cuda (auto detect)\n"
     ]
    },
    {
     "name": "stderr",
     "output_type": "stream",
     "text": [
      "/usr/bin/ld: cannot find -laio: No such file or directory\n",
      "collect2: error: ld returned 1 exit status\n",
      "/usr/bin/ld: cannot find -lcufile: No such file or directory\n",
      "collect2: error: ld returned 1 exit status\n",
      "/home/ubuntu/fastllm_venv/lib/python3.11/site-packages/auto_gptq/nn_modules/triton_utils/kernels.py:410: FutureWarning: `torch.cuda.amp.custom_fwd(args...)` is deprecated. Please use `torch.amp.custom_fwd(args..., device_type='cuda')` instead.\n",
      "  @custom_fwd\n",
      "/home/ubuntu/fastllm_venv/lib/python3.11/site-packages/auto_gptq/nn_modules/triton_utils/kernels.py:418: FutureWarning: `torch.cuda.amp.custom_bwd(args...)` is deprecated. Please use `torch.amp.custom_bwd(args..., device_type='cuda')` instead.\n",
      "  @custom_bwd\n",
      "/home/ubuntu/fastllm_venv/lib/python3.11/site-packages/auto_gptq/nn_modules/triton_utils/kernels.py:461: FutureWarning: `torch.cuda.amp.custom_fwd(args...)` is deprecated. Please use `torch.amp.custom_fwd(args..., device_type='cuda')` instead.\n",
      "  @custom_fwd(cast_inputs=torch.float16)\n",
      "CUDA extension not installed.\n",
      "CUDA extension not installed.\n"
     ]
    }
   ],
   "source": [
    "from auto_gptq import AutoGPTQForCausalLM, BaseQuantizeConfig\n",
    "from transformers import AutoTokenizer\n",
    "\n",
    "def quantize_model_gptq(model_path, save_path, bits=4, group_size=128):\n",
    "    quant_config = BaseQuantizeConfig(\n",
    "        bits=bits,\n",
    "        group_size=group_size,\n",
    "        desc_act=False,\n",
    "        sym=True,\n",
    "        model_seqlen=2048\n",
    "    )\n",
    "\n",
    "    model = AutoGPTQForCausalLM.from_pretrained(\n",
    "        model_path,\n",
    "        quantize_config=quant_config,\n",
    "        trust_remote_code=True\n",
    "    )\n",
    "\n",
    "    model.quantize()\n",
    "    model.save_quantized(save_path)\n",
    "\n",
    "    tokenizer = AutoTokenizer.from_pretrained(model_path)\n",
    "    tokenizer.save_pretrained(save_path)\n",
    "\n",
    "    print(f\"✅ Model saved in GPTQ ({bits}-bit) format at {save_path}\")"
   ]
  }
 ],
 "metadata": {
  "kernelspec": {
   "display_name": "fastllm_venv",
   "language": "python",
   "name": "python3"
  },
  "language_info": {
   "codemirror_mode": {
    "name": "ipython",
    "version": 3
   },
   "file_extension": ".py",
   "mimetype": "text/x-python",
   "name": "python",
   "nbconvert_exporter": "python",
   "pygments_lexer": "ipython3",
   "version": "3.11.12"
  }
 },
 "nbformat": 4,
 "nbformat_minor": 5
}
