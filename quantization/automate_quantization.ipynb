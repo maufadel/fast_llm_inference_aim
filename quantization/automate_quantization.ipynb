{
 "cells": [
  {
   "cell_type": "code",
   "execution_count": 1,
   "id": "eca7e8c6",
   "metadata": {},
   "outputs": [],
   "source": [
    "from transformers import AutoModelForCausalLM, AutoTokenizer, BitsAndBytesConfig\n",
    "import torch, os\n",
    "\n",
    "def quantize_model(model_path: str,\n",
    "                   save_path:  str,\n",
    "                   quant_bits: int    = 4,\n",
    "                   compute_dtype: str = \"float16\"):\n",
    "    assert quant_bits in (4, 8)\n",
    "\n",
    "    # map the string to the actual torch.dtype\n",
    "    compute_dtype = getattr(torch, compute_dtype)\n",
    "\n",
    "    if quant_bits == 4:\n",
    "        bnb_config = BitsAndBytesConfig(\n",
    "            load_in_4bit=True,\n",
    "            bnb_4bit_quant_type=\"nf4\",\n",
    "            bnb_4bit_use_double_quant=True,\n",
    "            bnb_4bit_compute_dtype=compute_dtype,\n",
    "        )\n",
    "    else:  # 8-bit\n",
    "        bnb_config = BitsAndBytesConfig(\n",
    "            load_in_8bit=True,\n",
    "            llm_int8_enable_fp32_cpu_offload=False,\n",
    "        )\n",
    "\n",
    "    model = AutoModelForCausalLM.from_pretrained(\n",
    "        model_path,\n",
    "        quantization_config=bnb_config,\n",
    "        device_map=\"auto\",\n",
    "        trust_remote_code=True,\n",
    "    )\n",
    "    tokenizer = AutoTokenizer.from_pretrained(model_path)\n",
    "\n",
    "    os.makedirs(save_path, exist_ok=True)\n",
    "    model.save_pretrained(save_path)\n",
    "    tokenizer.save_pretrained(save_path)\n",
    "\n",
    "    print(f\"✅ Quantized to {quant_bits}-bit ({compute_dtype}) → saved at {save_path}\")\n"
   ]
  },
  {
   "cell_type": "code",
   "execution_count": 5,
   "id": "337e56de",
   "metadata": {},
   "outputs": [
    {
     "name": "stdout",
     "output_type": "stream",
     "text": [
      "✅ Quantized to 4-bit (torch.float16) → saved at /home/ubuntu/fast_llm_inference/models/Qwen2.5-0.5B-Instruct-4bit\n"
     ]
    }
   ],
   "source": [
    "quantize_model(\n",
    "    model_path=\"/home/ubuntu/fast_llm_inference/models/Qwen2.5-0.5B-Instruct\",\n",
    "    save_path=f\"/home/ubuntu/fast_llm_inference/models/Qwen2.5-0.5B-Instruct-{4}bit\",\n",
    "    quant_bits=4\n",
    ")"
   ]
  }
 ],
 "metadata": {
  "kernelspec": {
   "display_name": "fastllm_venv",
   "language": "python",
   "name": "python3"
  },
  "language_info": {
   "codemirror_mode": {
    "name": "ipython",
    "version": 3
   },
   "file_extension": ".py",
   "mimetype": "text/x-python",
   "name": "python",
   "nbconvert_exporter": "python",
   "pygments_lexer": "ipython3",
   "version": "3.11.12"
  }
 },
 "nbformat": 4,
 "nbformat_minor": 5
}
